{
  "nbformat": 4,
  "nbformat_minor": 0,
  "metadata": {
    "colab": {
      "name": "Twitter _Reviews.ipynb",
      "provenance": []
    },
    "kernelspec": {
      "name": "python3",
      "display_name": "Python 3"
    },
    "language_info": {
      "name": "python"
    }
  },
  "cells": [
    {
      "cell_type": "code",
      "metadata": {
        "colab": {
          "base_uri": "https://localhost:8080/",
          "height": 402
        },
        "id": "Ux9Aqujbja3T",
        "outputId": "bfff6077-4d09-4705-dfce-ede283531588"
      },
      "source": [
        "import pandas as pd\n",
        "df = pd.read_csv('/content/drive/MyDrive/ML Smart Knower/Major Project/data.csv')\n",
        "df"
      ],
      "execution_count": 2,
      "outputs": [
        {
          "output_type": "execute_result",
          "data": {
            "text/html": [
              "<div>\n",
              "<style scoped>\n",
              "    .dataframe tbody tr th:only-of-type {\n",
              "        vertical-align: middle;\n",
              "    }\n",
              "\n",
              "    .dataframe tbody tr th {\n",
              "        vertical-align: top;\n",
              "    }\n",
              "\n",
              "    .dataframe thead th {\n",
              "        text-align: right;\n",
              "    }\n",
              "</style>\n",
              "<table border=\"1\" class=\"dataframe\">\n",
              "  <thead>\n",
              "    <tr style=\"text-align: right;\">\n",
              "      <th></th>\n",
              "      <th>Sl no</th>\n",
              "      <th>Tweets</th>\n",
              "      <th>Search key</th>\n",
              "      <th>Feeling</th>\n",
              "    </tr>\n",
              "  </thead>\n",
              "  <tbody>\n",
              "    <tr>\n",
              "      <th>0</th>\n",
              "      <td>1</td>\n",
              "      <td>#1: @fe ed \"RT @MirayaDizon1: Time is ticking...</td>\n",
              "      <td>happy moments</td>\n",
              "      <td>happy</td>\n",
              "    </tr>\n",
              "    <tr>\n",
              "      <th>1</th>\n",
              "      <td>2</td>\n",
              "      <td>#2: @蓮花 &amp;はすか ed \"RT @ninjaryugo: ＃コナモンの日 だそうで...</td>\n",
              "      <td>happy moments</td>\n",
              "      <td>happy</td>\n",
              "    </tr>\n",
              "    <tr>\n",
              "      <th>2</th>\n",
              "      <td>3</td>\n",
              "      <td>#3: @Ris ♡ ed \"Happy birthday to one smokin h...</td>\n",
              "      <td>happy moments</td>\n",
              "      <td>happy</td>\n",
              "    </tr>\n",
              "    <tr>\n",
              "      <th>3</th>\n",
              "      <td>4</td>\n",
              "      <td>#4: @월월 [씍쯴사랑로봇] jwinnie is the best, cheer u...</td>\n",
              "      <td>happy moments</td>\n",
              "      <td>happy</td>\n",
              "    </tr>\n",
              "    <tr>\n",
              "      <th>4</th>\n",
              "      <td>5</td>\n",
              "      <td>#5: @Madhurima wth u vc♥ ed \"Good morning dea...</td>\n",
              "      <td>happy moments</td>\n",
              "      <td>happy</td>\n",
              "    </tr>\n",
              "    <tr>\n",
              "      <th>...</th>\n",
              "      <td>...</td>\n",
              "      <td>...</td>\n",
              "      <td>...</td>\n",
              "      <td>...</td>\n",
              "    </tr>\n",
              "    <tr>\n",
              "      <th>10012</th>\n",
              "      <td>10016</td>\n",
              "      <td>Tweet #85: @Matteo tweeted \"@GameSpot @Frannkc...</td>\n",
              "      <td>irritating</td>\n",
              "      <td>angry</td>\n",
              "    </tr>\n",
              "    <tr>\n",
              "      <th>10013</th>\n",
              "      <td>10017</td>\n",
              "      <td>Tweet #86: @𝐚𝐧𝐢𝐬𝐭𝐨𝐧 tweeted \"@BRATgiirl_ that’...</td>\n",
              "      <td>irritating</td>\n",
              "      <td>angry</td>\n",
              "    </tr>\n",
              "    <tr>\n",
              "      <th>10014</th>\n",
              "      <td>10018</td>\n",
              "      <td>Tweet #87: @Chowkidar Ricky Sharma tweeted \"@M...</td>\n",
              "      <td>irritating</td>\n",
              "      <td>angry</td>\n",
              "    </tr>\n",
              "    <tr>\n",
              "      <th>10015</th>\n",
              "      <td>10019</td>\n",
              "      <td>Tweet #88: @Katoe.EXE tweeted \"u know what i h...</td>\n",
              "      <td>irritating</td>\n",
              "      <td>angry</td>\n",
              "    </tr>\n",
              "    <tr>\n",
              "      <th>10016</th>\n",
              "      <td>10019</td>\n",
              "      <td>Tweet #88: @Katoe.EXE tweeted \"u know what i h...</td>\n",
              "      <td>irritating</td>\n",
              "      <td>angry</td>\n",
              "    </tr>\n",
              "  </tbody>\n",
              "</table>\n",
              "<p>10017 rows × 4 columns</p>\n",
              "</div>"
            ],
            "text/plain": [
              "       Sl no  ... Feeling\n",
              "0          1  ...   happy\n",
              "1          2  ...   happy\n",
              "2          3  ...   happy\n",
              "3          4  ...   happy\n",
              "4          5  ...   happy\n",
              "...      ...  ...     ...\n",
              "10012  10016  ...   angry\n",
              "10013  10017  ...   angry\n",
              "10014  10018  ...   angry\n",
              "10015  10019  ...   angry\n",
              "10016  10019  ...   angry\n",
              "\n",
              "[10017 rows x 4 columns]"
            ]
          },
          "metadata": {
            "tags": []
          },
          "execution_count": 2
        }
      ]
    },
    {
      "cell_type": "code",
      "metadata": {
        "colab": {
          "base_uri": "https://localhost:8080/"
        },
        "id": "s3LwLSl1jhIu",
        "outputId": "615b1d90-cc80-4a7c-bc63-ce84e68d9d4f"
      },
      "source": [
        "df.info()"
      ],
      "execution_count": 3,
      "outputs": [
        {
          "output_type": "stream",
          "text": [
            "<class 'pandas.core.frame.DataFrame'>\n",
            "RangeIndex: 10017 entries, 0 to 10016\n",
            "Data columns (total 4 columns):\n",
            " #   Column      Non-Null Count  Dtype \n",
            "---  ------      --------------  ----- \n",
            " 0   Sl no       10017 non-null  int64 \n",
            " 1   Tweets      10017 non-null  object\n",
            " 2   Search key  10017 non-null  object\n",
            " 3   Feeling     10017 non-null  object\n",
            "dtypes: int64(1), object(3)\n",
            "memory usage: 313.2+ KB\n"
          ],
          "name": "stdout"
        }
      ]
    },
    {
      "cell_type": "code",
      "metadata": {
        "id": "mHvR4lipjsHI"
      },
      "source": [
        "new_df = df.to_csv('newdatafile.csv',index=False)\n",
        "new_df"
      ],
      "execution_count": 5,
      "outputs": []
    },
    {
      "cell_type": "code",
      "metadata": {
        "colab": {
          "base_uri": "https://localhost:8080/",
          "height": 402
        },
        "id": "2iaAIUuPjsgH",
        "outputId": "6eb7c037-8533-4447-9fa6-2a4adbc08659"
      },
      "source": [
        "import pandas as pd\n",
        "df = pd.read_csv('/content/drive/MyDrive/ML Smart Knower/Major Project/newdatafile.csv')\n",
        "df"
      ],
      "execution_count": 7,
      "outputs": [
        {
          "output_type": "execute_result",
          "data": {
            "text/html": [
              "<div>\n",
              "<style scoped>\n",
              "    .dataframe tbody tr th:only-of-type {\n",
              "        vertical-align: middle;\n",
              "    }\n",
              "\n",
              "    .dataframe tbody tr th {\n",
              "        vertical-align: top;\n",
              "    }\n",
              "\n",
              "    .dataframe thead th {\n",
              "        text-align: right;\n",
              "    }\n",
              "</style>\n",
              "<table border=\"1\" class=\"dataframe\">\n",
              "  <thead>\n",
              "    <tr style=\"text-align: right;\">\n",
              "      <th></th>\n",
              "      <th>Sl no</th>\n",
              "      <th>Tweets</th>\n",
              "      <th>Search key</th>\n",
              "      <th>Feeling</th>\n",
              "    </tr>\n",
              "  </thead>\n",
              "  <tbody>\n",
              "    <tr>\n",
              "      <th>0</th>\n",
              "      <td>1</td>\n",
              "      <td>#1: @fe ed \"RT @MirayaDizon1: Time is ticking...</td>\n",
              "      <td>happy moments</td>\n",
              "      <td>happy</td>\n",
              "    </tr>\n",
              "    <tr>\n",
              "      <th>1</th>\n",
              "      <td>2</td>\n",
              "      <td>#2: @蓮花 &amp;はすか ed \"RT @ninjaryugo: ＃コナモンの日 だそうで...</td>\n",
              "      <td>happy moments</td>\n",
              "      <td>happy</td>\n",
              "    </tr>\n",
              "    <tr>\n",
              "      <th>2</th>\n",
              "      <td>3</td>\n",
              "      <td>#3: @Ris ♡ ed \"Happy birthday to one smokin h...</td>\n",
              "      <td>happy moments</td>\n",
              "      <td>happy</td>\n",
              "    </tr>\n",
              "    <tr>\n",
              "      <th>3</th>\n",
              "      <td>4</td>\n",
              "      <td>#4: @월월 [씍쯴사랑로봇] jwinnie is the best, cheer u...</td>\n",
              "      <td>happy moments</td>\n",
              "      <td>happy</td>\n",
              "    </tr>\n",
              "    <tr>\n",
              "      <th>4</th>\n",
              "      <td>5</td>\n",
              "      <td>#5: @Madhurima wth u vc♥ ed \"Good morning dea...</td>\n",
              "      <td>happy moments</td>\n",
              "      <td>happy</td>\n",
              "    </tr>\n",
              "    <tr>\n",
              "      <th>...</th>\n",
              "      <td>...</td>\n",
              "      <td>...</td>\n",
              "      <td>...</td>\n",
              "      <td>...</td>\n",
              "    </tr>\n",
              "    <tr>\n",
              "      <th>10012</th>\n",
              "      <td>10016</td>\n",
              "      <td>Tweet #85: @Matteo tweeted \"@GameSpot @Frannkc...</td>\n",
              "      <td>irritating</td>\n",
              "      <td>angry</td>\n",
              "    </tr>\n",
              "    <tr>\n",
              "      <th>10013</th>\n",
              "      <td>10017</td>\n",
              "      <td>Tweet #86: @𝐚𝐧𝐢𝐬𝐭𝐨𝐧 tweeted \"@BRATgiirl_ that’...</td>\n",
              "      <td>irritating</td>\n",
              "      <td>angry</td>\n",
              "    </tr>\n",
              "    <tr>\n",
              "      <th>10014</th>\n",
              "      <td>10018</td>\n",
              "      <td>Tweet #87: @Chowkidar Ricky Sharma tweeted \"@M...</td>\n",
              "      <td>irritating</td>\n",
              "      <td>angry</td>\n",
              "    </tr>\n",
              "    <tr>\n",
              "      <th>10015</th>\n",
              "      <td>10019</td>\n",
              "      <td>Tweet #88: @Katoe.EXE tweeted \"u know what i h...</td>\n",
              "      <td>irritating</td>\n",
              "      <td>angry</td>\n",
              "    </tr>\n",
              "    <tr>\n",
              "      <th>10016</th>\n",
              "      <td>10019</td>\n",
              "      <td>Tweet #88: @Katoe.EXE tweeted \"u know what i h...</td>\n",
              "      <td>irritating</td>\n",
              "      <td>angry</td>\n",
              "    </tr>\n",
              "  </tbody>\n",
              "</table>\n",
              "<p>10017 rows × 4 columns</p>\n",
              "</div>"
            ],
            "text/plain": [
              "       Sl no  ... Feeling\n",
              "0          1  ...   happy\n",
              "1          2  ...   happy\n",
              "2          3  ...   happy\n",
              "3          4  ...   happy\n",
              "4          5  ...   happy\n",
              "...      ...  ...     ...\n",
              "10012  10016  ...   angry\n",
              "10013  10017  ...   angry\n",
              "10014  10018  ...   angry\n",
              "10015  10019  ...   angry\n",
              "10016  10019  ...   angry\n",
              "\n",
              "[10017 rows x 4 columns]"
            ]
          },
          "metadata": {
            "tags": []
          },
          "execution_count": 7
        }
      ]
    },
    {
      "cell_type": "code",
      "metadata": {
        "colab": {
          "base_uri": "https://localhost:8080/"
        },
        "id": "de2ZKNY3kluL",
        "outputId": "4d17b7e5-2d94-42ec-8daa-9855332bbff3"
      },
      "source": [
        "import nltk\n",
        "nltk.download('stopwords')\n",
        "stopword_list = nltk.corpus.stopwords.words('english')\n",
        "stopword_list.remove('no')\n",
        "stopword_list.remove('not')\n",
        "len(stopword_list)"
      ],
      "execution_count": 8,
      "outputs": [
        {
          "output_type": "stream",
          "text": [
            "[nltk_data] Downloading package stopwords to /root/nltk_data...\n",
            "[nltk_data]   Unzipping corpora/stopwords.zip.\n"
          ],
          "name": "stdout"
        },
        {
          "output_type": "execute_result",
          "data": {
            "text/plain": [
              "177"
            ]
          },
          "metadata": {
            "tags": []
          },
          "execution_count": 8
        }
      ]
    },
    {
      "cell_type": "code",
      "metadata": {
        "colab": {
          "base_uri": "https://localhost:8080/",
          "height": 35
        },
        "id": "Zgu6EWp0kowq",
        "outputId": "0d4d1109-e241-4b4f-a550-56cfb995f63c"
      },
      "source": [
        "# Remove HTML Tag\n",
        "from bs4 import BeautifulSoup\n",
        "def html_tag(text):\n",
        "  soup = BeautifulSoup(text,\"html.parser\")\n",
        "  new_text = soup.get_text()\n",
        "  return new_text\n",
        "\n",
        "html_tag(\"<html><h2> Some important info </h2></html>\")"
      ],
      "execution_count": 9,
      "outputs": [
        {
          "output_type": "execute_result",
          "data": {
            "application/vnd.google.colaboratory.intrinsic+json": {
              "type": "string"
            },
            "text/plain": [
              "' Some important info '"
            ]
          },
          "metadata": {
            "tags": []
          },
          "execution_count": 9
        }
      ]
    },
    {
      "cell_type": "code",
      "metadata": {
        "colab": {
          "base_uri": "https://localhost:8080/"
        },
        "id": "soDa6cbckrxg",
        "outputId": "2730920c-a7e4-42c3-d8a7-6cd86ff878fc"
      },
      "source": [
        "# Expand Contractions\n",
        "!pip install contractions "
      ],
      "execution_count": 10,
      "outputs": [
        {
          "output_type": "stream",
          "text": [
            "Collecting contractions\n",
            "  Downloading https://files.pythonhosted.org/packages/93/f4/0ec4a458e4368cc3be2c799411ecf0bc961930e566dadb9624563821b3a6/contractions-0.0.52-py2.py3-none-any.whl\n",
            "Collecting textsearch>=0.0.21\n",
            "  Downloading https://files.pythonhosted.org/packages/d3/fe/021d7d76961b5ceb9f8d022c4138461d83beff36c3938dc424586085e559/textsearch-0.0.21-py2.py3-none-any.whl\n",
            "Collecting anyascii\n",
            "\u001b[?25l  Downloading https://files.pythonhosted.org/packages/a3/14/666cd44bf53f36a961544af592cb5c5c800013f9c51a4745af8d7c17362a/anyascii-0.2.0-py3-none-any.whl (283kB)\n",
            "\u001b[K     |████████████████████████████████| 286kB 5.0MB/s \n",
            "\u001b[?25hCollecting pyahocorasick\n",
            "\u001b[?25l  Downloading https://files.pythonhosted.org/packages/7f/c2/eae730037ae1cbbfaa229d27030d1d5e34a1e41114b21447d1202ae9c220/pyahocorasick-1.4.2.tar.gz (321kB)\n",
            "\u001b[K     |████████████████████████████████| 327kB 26.0MB/s \n",
            "\u001b[?25hBuilding wheels for collected packages: pyahocorasick\n",
            "  Building wheel for pyahocorasick (setup.py) ... \u001b[?25l\u001b[?25hdone\n",
            "  Created wheel for pyahocorasick: filename=pyahocorasick-1.4.2-cp37-cp37m-linux_x86_64.whl size=85404 sha256=9575313f2712f3f68d3db49a8381f3e35ba7e2ce4b64f82b0e87b2dda1fc4863\n",
            "  Stored in directory: /root/.cache/pip/wheels/3a/03/34/77e3ece0bba8b86bfac88a79f923b36d805cad63caeba38842\n",
            "Successfully built pyahocorasick\n",
            "Installing collected packages: anyascii, pyahocorasick, textsearch, contractions\n",
            "Successfully installed anyascii-0.2.0 contractions-0.0.52 pyahocorasick-1.4.2 textsearch-0.0.21\n"
          ],
          "name": "stdout"
        }
      ]
    },
    {
      "cell_type": "code",
      "metadata": {
        "colab": {
          "base_uri": "https://localhost:8080/",
          "height": 35
        },
        "id": "p3dGlXkfkwkT",
        "outputId": "07f70736-1018-4978-b18e-62438aa09b45"
      },
      "source": [
        "import contractions\n",
        "def con(text):\n",
        "  expand = contractions.fix(text)\n",
        "  return expand\n",
        "\n",
        "con(\"U all can't expand I'd think\")"
      ],
      "execution_count": 11,
      "outputs": [
        {
          "output_type": "execute_result",
          "data": {
            "application/vnd.google.colaboratory.intrinsic+json": {
              "type": "string"
            },
            "text/plain": [
              "'you all cannot expand I would think'"
            ]
          },
          "metadata": {
            "tags": []
          },
          "execution_count": 11
        }
      ]
    },
    {
      "cell_type": "code",
      "metadata": {
        "colab": {
          "base_uri": "https://localhost:8080/",
          "height": 35
        },
        "id": "HUKcNKCekzbq",
        "outputId": "ee436c96-7180-4189-c9e5-59bae8bc293e"
      },
      "source": [
        "# Removal of Special Characters\n",
        "import re\n",
        "def remove_sp(text):\n",
        "  pattern = r'[^A-Za-z0-9]'\n",
        "  text = re.sub(pattern,' ',text)\n",
        "  return text\n",
        "\n",
        "remove_sp(\"Well this was fun! What do you think? 123#\")\n"
      ],
      "execution_count": 12,
      "outputs": [
        {
          "output_type": "execute_result",
          "data": {
            "application/vnd.google.colaboratory.intrinsic+json": {
              "type": "string"
            },
            "text/plain": [
              "'Well this was fun  What do you think  123 '"
            ]
          },
          "metadata": {
            "tags": []
          },
          "execution_count": 12
        }
      ]
    },
    {
      "cell_type": "code",
      "metadata": {
        "colab": {
          "base_uri": "https://localhost:8080/",
          "height": 35
        },
        "id": "Kj9dNODlk2Vd",
        "outputId": "9fd19f43-d537-496c-a6b7-e1f0898be51c"
      },
      "source": [
        "# Removal of Numbers\n",
        "def remove_num(text):\n",
        "  result = re.sub(r'\\d +',' ',text)\n",
        "  return result\n",
        "\n",
        "remove_num(\"There are 3 balls in this bag, and 12 in the other one.\")"
      ],
      "execution_count": 13,
      "outputs": [
        {
          "output_type": "execute_result",
          "data": {
            "application/vnd.google.colaboratory.intrinsic+json": {
              "type": "string"
            },
            "text/plain": [
              "'There are  balls in this bag, and 1 in the other one.'"
            ]
          },
          "metadata": {
            "tags": []
          },
          "execution_count": 13
        }
      ]
    },
    {
      "cell_type": "code",
      "metadata": {
        "colab": {
          "base_uri": "https://localhost:8080/",
          "height": 35
        },
        "id": "uEeMwsKLk4uV",
        "outputId": "d41c95a6-461a-4f55-f2c0-843be361a815"
      },
      "source": [
        "import inflect\n",
        "p = inflect.engine()\n",
        "  \n",
        "# convert number into words\n",
        "def convert_number(text):\n",
        "    # split string into list of words\n",
        "    temp_str = text.split()\n",
        "    # initialise empty list\n",
        "    new_string = []\n",
        "  \n",
        "    for word in temp_str:\n",
        "        # if word is a digit, convert the digit\n",
        "        # to numbers and append into the new_string list\n",
        "        if word.isdigit():\n",
        "            temp = p.number_to_words(word)\n",
        "            new_string.append(temp)\n",
        "  \n",
        "        # append the word as it is\n",
        "        else:\n",
        "            new_string.append(word)\n",
        "  \n",
        "    # join the words of new_string to form a string\n",
        "    temp_str = ' '.join(new_string)\n",
        "    return temp_str\n",
        "  \n",
        "convert_number('There are 3 balls in this bag, and 12 in the other one.')"
      ],
      "execution_count": 14,
      "outputs": [
        {
          "output_type": "execute_result",
          "data": {
            "application/vnd.google.colaboratory.intrinsic+json": {
              "type": "string"
            },
            "text/plain": [
              "'There are three balls in this bag, and twelve in the other one.'"
            ]
          },
          "metadata": {
            "tags": []
          },
          "execution_count": 14
        }
      ]
    },
    {
      "cell_type": "code",
      "metadata": {
        "id": "2gZV1m3Mk7Jj"
      },
      "source": [
        "# Tokenization\n",
        "from nltk.tokenize.toktok import ToktokTokenizer\n",
        "tokenizer = ToktokTokenizer()"
      ],
      "execution_count": 15,
      "outputs": []
    },
    {
      "cell_type": "code",
      "metadata": {
        "id": "Hku3y8krk9L5"
      },
      "source": [
        "# Removal of Stop Words\n",
        "def remove_stopwords(text):\n",
        "  tokens = tokenizer.tokenize(text)\n",
        "  tokens = [token.strip() for token in tokens]\n",
        "  filtered_tokens = [token for token in tokens if token not in stopword_list]\n",
        "  filtered_text = '  '.join(filtered_tokens)\n",
        "  return filtered_text"
      ],
      "execution_count": 16,
      "outputs": []
    },
    {
      "cell_type": "code",
      "metadata": {
        "id": "GEEKpp_Bk_89"
      },
      "source": [
        "# 1.Lowercase\n",
        "# 2.HTML Tags\n",
        "# 3.Contractions\n",
        "# 4.Special Characters\n",
        "# 5.Stop Words"
      ],
      "execution_count": 17,
      "outputs": []
    },
    {
      "cell_type": "code",
      "metadata": {
        "colab": {
          "base_uri": "https://localhost:8080/",
          "height": 195
        },
        "id": "Lf1rcah5lF6b",
        "outputId": "57a876e1-73bc-4a51-b6e8-af12413a4d97"
      },
      "source": [
        "df.Tweets = df.Tweets.apply(lambda x:x.lower())\n",
        "\n",
        "df.Tweets = df.Tweets.apply(html_tag)\n",
        "\n",
        "df.Tweets = df.Tweets.apply(con)\n",
        "\n",
        "df.Tweets = df.Tweets.apply(remove_sp)\n",
        "\n",
        "df.Tweets = df.Tweets.apply(remove_stopwords)\n",
        "\n",
        "df.Tweets = df.Tweets.apply(remove_num)\n",
        "\n",
        "df.Tweets = df.Tweets.apply(convert_number)\n",
        "\n",
        "\n",
        "df.tail()"
      ],
      "execution_count": 18,
      "outputs": [
        {
          "output_type": "execute_result",
          "data": {
            "text/html": [
              "<div>\n",
              "<style scoped>\n",
              "    .dataframe tbody tr th:only-of-type {\n",
              "        vertical-align: middle;\n",
              "    }\n",
              "\n",
              "    .dataframe tbody tr th {\n",
              "        vertical-align: top;\n",
              "    }\n",
              "\n",
              "    .dataframe thead th {\n",
              "        text-align: right;\n",
              "    }\n",
              "</style>\n",
              "<table border=\"1\" class=\"dataframe\">\n",
              "  <thead>\n",
              "    <tr style=\"text-align: right;\">\n",
              "      <th></th>\n",
              "      <th>Sl no</th>\n",
              "      <th>Tweets</th>\n",
              "      <th>Search key</th>\n",
              "      <th>Feeling</th>\n",
              "    </tr>\n",
              "  </thead>\n",
              "  <tbody>\n",
              "    <tr>\n",
              "      <th>10012</th>\n",
              "      <td>10016</td>\n",
              "      <td>tweet eight matteo tweeted gamespot frannkches...</td>\n",
              "      <td>irritating</td>\n",
              "      <td>angry</td>\n",
              "    </tr>\n",
              "    <tr>\n",
              "      <th>10013</th>\n",
              "      <td>10017</td>\n",
              "      <td>tweet eight tweeted bratgiirl irritating wish ...</td>\n",
              "      <td>irritating</td>\n",
              "      <td>angry</td>\n",
              "    </tr>\n",
              "    <tr>\n",
              "      <th>10014</th>\n",
              "      <td>10018</td>\n",
              "      <td>tweet eight chowkidar ricky sharma tweeted mam...</td>\n",
              "      <td>irritating</td>\n",
              "      <td>angry</td>\n",
              "    </tr>\n",
              "    <tr>\n",
              "      <th>10015</th>\n",
              "      <td>10019</td>\n",
              "      <td>tweet eight katoe exe tweeted know hate indie ...</td>\n",
              "      <td>irritating</td>\n",
              "      <td>angry</td>\n",
              "    </tr>\n",
              "    <tr>\n",
              "      <th>10016</th>\n",
              "      <td>10019</td>\n",
              "      <td>tweet eight katoe exe tweeted know hate indie ...</td>\n",
              "      <td>irritating</td>\n",
              "      <td>angry</td>\n",
              "    </tr>\n",
              "  </tbody>\n",
              "</table>\n",
              "</div>"
            ],
            "text/plain": [
              "       Sl no  ... Feeling\n",
              "10012  10016  ...   angry\n",
              "10013  10017  ...   angry\n",
              "10014  10018  ...   angry\n",
              "10015  10019  ...   angry\n",
              "10016  10019  ...   angry\n",
              "\n",
              "[5 rows x 4 columns]"
            ]
          },
          "metadata": {
            "tags": []
          },
          "execution_count": 18
        }
      ]
    },
    {
      "cell_type": "code",
      "metadata": {
        "colab": {
          "base_uri": "https://localhost:8080/",
          "height": 442
        },
        "id": "mEcYVj0ElH5U",
        "outputId": "6fdcaa97-8b79-4d02-a45f-4911516bb7c1"
      },
      "source": [
        "# checking for the description of default \n",
        "import matplotlib.pyplot as plt\n",
        "%matplotlib inline\n",
        "print(\"Percantage for default\\n\")\n",
        "print(round(df.Feeling.value_counts(normalize=True)*100,2))\n",
        "round(df.Feeling.value_counts(normalize=True)*100,2).plot(kind='bar')\n",
        "plt.title('Percentage Distributions by review type')\n",
        "plt.show()"
      ],
      "execution_count": 19,
      "outputs": [
        {
          "output_type": "stream",
          "text": [
            "Percantage for default\n",
            "\n",
            "happy      43.20\n",
            "sad        28.44\n",
            "angry      13.39\n",
            "fear        8.62\n",
            "disgust     6.36\n",
            "Name: Feeling, dtype: float64\n"
          ],
          "name": "stdout"
        },
        {
          "output_type": "display_data",
          "data": {
            "image/png": "[encoded data removed]",
            "text/plain": [
              "<Figure size 432x288 with 1 Axes>"
            ]
          },
          "metadata": {
            "tags": [],
            "needs_background": "light"
          }
        }
      ]
    },
    {
      "cell_type": "code",
      "metadata": {
        "colab": {
          "base_uri": "https://localhost:8080/",
          "height": 402
        },
        "id": "rbOP-zM6lMyl",
        "outputId": "fc34f93f-ac42-4da8-8524-505f5815b820"
      },
      "source": [
        "df.drop(columns = ['Search key'],inplace = True)\n",
        "df"
      ],
      "execution_count": 20,
      "outputs": [
        {
          "output_type": "execute_result",
          "data": {
            "text/html": [
              "<div>\n",
              "<style scoped>\n",
              "    .dataframe tbody tr th:only-of-type {\n",
              "        vertical-align: middle;\n",
              "    }\n",
              "\n",
              "    .dataframe tbody tr th {\n",
              "        vertical-align: top;\n",
              "    }\n",
              "\n",
              "    .dataframe thead th {\n",
              "        text-align: right;\n",
              "    }\n",
              "</style>\n",
              "<table border=\"1\" class=\"dataframe\">\n",
              "  <thead>\n",
              "    <tr style=\"text-align: right;\">\n",
              "      <th></th>\n",
              "      <th>Sl no</th>\n",
              "      <th>Tweets</th>\n",
              "      <th>Feeling</th>\n",
              "    </tr>\n",
              "  </thead>\n",
              "  <tbody>\n",
              "    <tr>\n",
              "      <th>0</th>\n",
              "      <td>1</td>\n",
              "      <td>fe ed rt mirayadizon time ticking fast relive ...</td>\n",
              "      <td>happy</td>\n",
              "    </tr>\n",
              "    <tr>\n",
              "      <th>1</th>\n",
              "      <td>2</td>\n",
              "      <td>ed rt ninjaryugo https co wn24wlfrml</td>\n",
              "      <td>happy</td>\n",
              "    </tr>\n",
              "    <tr>\n",
              "      <th>2</th>\n",
              "      <td>3</td>\n",
              "      <td>ris ed happy birthday one smokin hot mama love...</td>\n",
              "      <td>happy</td>\n",
              "    </tr>\n",
              "    <tr>\n",
              "      <th>3</th>\n",
              "      <td>4</td>\n",
              "      <td>jwinnie best cheer jwinnie ed omg left min fiv...</td>\n",
              "      <td>happy</td>\n",
              "    </tr>\n",
              "    <tr>\n",
              "      <th>4</th>\n",
              "      <td>5</td>\n",
              "      <td>madhurima wth vc ed good morning dear vikramch...</td>\n",
              "      <td>happy</td>\n",
              "    </tr>\n",
              "    <tr>\n",
              "      <th>...</th>\n",
              "      <td>...</td>\n",
              "      <td>...</td>\n",
              "      <td>...</td>\n",
              "    </tr>\n",
              "    <tr>\n",
              "      <th>10012</th>\n",
              "      <td>10016</td>\n",
              "      <td>tweet eight matteo tweeted gamespot frannkches...</td>\n",
              "      <td>angry</td>\n",
              "    </tr>\n",
              "    <tr>\n",
              "      <th>10013</th>\n",
              "      <td>10017</td>\n",
              "      <td>tweet eight tweeted bratgiirl irritating wish ...</td>\n",
              "      <td>angry</td>\n",
              "    </tr>\n",
              "    <tr>\n",
              "      <th>10014</th>\n",
              "      <td>10018</td>\n",
              "      <td>tweet eight chowkidar ricky sharma tweeted mam...</td>\n",
              "      <td>angry</td>\n",
              "    </tr>\n",
              "    <tr>\n",
              "      <th>10015</th>\n",
              "      <td>10019</td>\n",
              "      <td>tweet eight katoe exe tweeted know hate indie ...</td>\n",
              "      <td>angry</td>\n",
              "    </tr>\n",
              "    <tr>\n",
              "      <th>10016</th>\n",
              "      <td>10019</td>\n",
              "      <td>tweet eight katoe exe tweeted know hate indie ...</td>\n",
              "      <td>angry</td>\n",
              "    </tr>\n",
              "  </tbody>\n",
              "</table>\n",
              "<p>10017 rows × 3 columns</p>\n",
              "</div>"
            ],
            "text/plain": [
              "       Sl no                                             Tweets Feeling\n",
              "0          1  fe ed rt mirayadizon time ticking fast relive ...   happy\n",
              "1          2               ed rt ninjaryugo https co wn24wlfrml   happy\n",
              "2          3  ris ed happy birthday one smokin hot mama love...   happy\n",
              "3          4  jwinnie best cheer jwinnie ed omg left min fiv...   happy\n",
              "4          5  madhurima wth vc ed good morning dear vikramch...   happy\n",
              "...      ...                                                ...     ...\n",
              "10012  10016  tweet eight matteo tweeted gamespot frannkches...   angry\n",
              "10013  10017  tweet eight tweeted bratgiirl irritating wish ...   angry\n",
              "10014  10018  tweet eight chowkidar ricky sharma tweeted mam...   angry\n",
              "10015  10019  tweet eight katoe exe tweeted know hate indie ...   angry\n",
              "10016  10019  tweet eight katoe exe tweeted know hate indie ...   angry\n",
              "\n",
              "[10017 rows x 3 columns]"
            ]
          },
          "metadata": {
            "tags": []
          },
          "execution_count": 20
        }
      ]
    },
    {
      "cell_type": "code",
      "metadata": {
        "colab": {
          "base_uri": "https://localhost:8080/"
        },
        "id": "W_murSPSlQiK",
        "outputId": "71c4facd-0b8b-4602-cf17-5d2d1f7f5aac"
      },
      "source": [
        "!pip install vaderSentiment"
      ],
      "execution_count": 21,
      "outputs": [
        {
          "output_type": "stream",
          "text": [
            "Collecting vaderSentiment\n",
            "\u001b[?25l  Downloading https://files.pythonhosted.org/packages/76/fc/310e16254683c1ed35eeb97386986d6c00bc29df17ce280aed64d55537e9/vaderSentiment-3.3.2-py2.py3-none-any.whl (125kB)\n",
            "\r\u001b[K     |██▋                             | 10kB 14.9MB/s eta 0:00:01\r\u001b[K     |█████▏                          | 20kB 19.8MB/s eta 0:00:01\r\u001b[K     |███████▉                        | 30kB 11.4MB/s eta 0:00:01\r\u001b[K     |██████████▍                     | 40kB 9.2MB/s eta 0:00:01\r\u001b[K     |█████████████                   | 51kB 4.2MB/s eta 0:00:01\r\u001b[K     |███████████████▋                | 61kB 4.4MB/s eta 0:00:01\r\u001b[K     |██████████████████▏             | 71kB 4.8MB/s eta 0:00:01\r\u001b[K     |████████████████████▉           | 81kB 4.9MB/s eta 0:00:01\r\u001b[K     |███████████████████████▍        | 92kB 5.0MB/s eta 0:00:01\r\u001b[K     |██████████████████████████      | 102kB 5.1MB/s eta 0:00:01\r\u001b[K     |████████████████████████████▋   | 112kB 5.1MB/s eta 0:00:01\r\u001b[K     |███████████████████████████████▏| 122kB 5.1MB/s eta 0:00:01\r\u001b[K     |████████████████████████████████| 133kB 5.1MB/s \n",
            "\u001b[?25hRequirement already satisfied: requests in /usr/local/lib/python3.7/dist-packages (from vaderSentiment) (2.23.0)\n",
            "Requirement already satisfied: chardet<4,>=3.0.2 in /usr/local/lib/python3.7/dist-packages (from requests->vaderSentiment) (3.0.4)\n",
            "Requirement already satisfied: certifi>=2017.4.17 in /usr/local/lib/python3.7/dist-packages (from requests->vaderSentiment) (2021.5.30)\n",
            "Requirement already satisfied: urllib3!=1.25.0,!=1.25.1,<1.26,>=1.21.1 in /usr/local/lib/python3.7/dist-packages (from requests->vaderSentiment) (1.24.3)\n",
            "Requirement already satisfied: idna<3,>=2.5 in /usr/local/lib/python3.7/dist-packages (from requests->vaderSentiment) (2.10)\n",
            "Installing collected packages: vaderSentiment\n",
            "Successfully installed vaderSentiment-3.3.2\n"
          ],
          "name": "stdout"
        }
      ]
    },
    {
      "cell_type": "code",
      "metadata": {
        "id": "u042vpVdlXUX"
      },
      "source": [
        "from vaderSentiment.vaderSentiment import SentimentIntensityAnalyzer\n",
        "vs = SentimentIntensityAnalyzer()\n",
        "df['compound'] = df['Feeling'].apply(lambda x: vs.polarity_scores(x)['compound'])"
      ],
      "execution_count": 22,
      "outputs": []
    },
    {
      "cell_type": "code",
      "metadata": {
        "colab": {
          "base_uri": "https://localhost:8080/",
          "height": 402
        },
        "id": "Vh5NQdzdlZL8",
        "outputId": "9923fb74-2656-4afb-da63-90b7463efe1a"
      },
      "source": [
        "df"
      ],
      "execution_count": 23,
      "outputs": [
        {
          "output_type": "execute_result",
          "data": {
            "text/html": [
              "<div>\n",
              "<style scoped>\n",
              "    .dataframe tbody tr th:only-of-type {\n",
              "        vertical-align: middle;\n",
              "    }\n",
              "\n",
              "    .dataframe tbody tr th {\n",
              "        vertical-align: top;\n",
              "    }\n",
              "\n",
              "    .dataframe thead th {\n",
              "        text-align: right;\n",
              "    }\n",
              "</style>\n",
              "<table border=\"1\" class=\"dataframe\">\n",
              "  <thead>\n",
              "    <tr style=\"text-align: right;\">\n",
              "      <th></th>\n",
              "      <th>Sl no</th>\n",
              "      <th>Tweets</th>\n",
              "      <th>Feeling</th>\n",
              "      <th>compound</th>\n",
              "    </tr>\n",
              "  </thead>\n",
              "  <tbody>\n",
              "    <tr>\n",
              "      <th>0</th>\n",
              "      <td>1</td>\n",
              "      <td>fe ed rt mirayadizon time ticking fast relive ...</td>\n",
              "      <td>happy</td>\n",
              "      <td>0.5719</td>\n",
              "    </tr>\n",
              "    <tr>\n",
              "      <th>1</th>\n",
              "      <td>2</td>\n",
              "      <td>ed rt ninjaryugo https co wn24wlfrml</td>\n",
              "      <td>happy</td>\n",
              "      <td>0.5719</td>\n",
              "    </tr>\n",
              "    <tr>\n",
              "      <th>2</th>\n",
              "      <td>3</td>\n",
              "      <td>ris ed happy birthday one smokin hot mama love...</td>\n",
              "      <td>happy</td>\n",
              "      <td>0.5719</td>\n",
              "    </tr>\n",
              "    <tr>\n",
              "      <th>3</th>\n",
              "      <td>4</td>\n",
              "      <td>jwinnie best cheer jwinnie ed omg left min fiv...</td>\n",
              "      <td>happy</td>\n",
              "      <td>0.5719</td>\n",
              "    </tr>\n",
              "    <tr>\n",
              "      <th>4</th>\n",
              "      <td>5</td>\n",
              "      <td>madhurima wth vc ed good morning dear vikramch...</td>\n",
              "      <td>happy</td>\n",
              "      <td>0.5719</td>\n",
              "    </tr>\n",
              "    <tr>\n",
              "      <th>...</th>\n",
              "      <td>...</td>\n",
              "      <td>...</td>\n",
              "      <td>...</td>\n",
              "      <td>...</td>\n",
              "    </tr>\n",
              "    <tr>\n",
              "      <th>10012</th>\n",
              "      <td>10016</td>\n",
              "      <td>tweet eight matteo tweeted gamespot frannkches...</td>\n",
              "      <td>angry</td>\n",
              "      <td>-0.5106</td>\n",
              "    </tr>\n",
              "    <tr>\n",
              "      <th>10013</th>\n",
              "      <td>10017</td>\n",
              "      <td>tweet eight tweeted bratgiirl irritating wish ...</td>\n",
              "      <td>angry</td>\n",
              "      <td>-0.5106</td>\n",
              "    </tr>\n",
              "    <tr>\n",
              "      <th>10014</th>\n",
              "      <td>10018</td>\n",
              "      <td>tweet eight chowkidar ricky sharma tweeted mam...</td>\n",
              "      <td>angry</td>\n",
              "      <td>-0.5106</td>\n",
              "    </tr>\n",
              "    <tr>\n",
              "      <th>10015</th>\n",
              "      <td>10019</td>\n",
              "      <td>tweet eight katoe exe tweeted know hate indie ...</td>\n",
              "      <td>angry</td>\n",
              "      <td>-0.5106</td>\n",
              "    </tr>\n",
              "    <tr>\n",
              "      <th>10016</th>\n",
              "      <td>10019</td>\n",
              "      <td>tweet eight katoe exe tweeted know hate indie ...</td>\n",
              "      <td>angry</td>\n",
              "      <td>-0.5106</td>\n",
              "    </tr>\n",
              "  </tbody>\n",
              "</table>\n",
              "<p>10017 rows × 4 columns</p>\n",
              "</div>"
            ],
            "text/plain": [
              "       Sl no  ... compound\n",
              "0          1  ...   0.5719\n",
              "1          2  ...   0.5719\n",
              "2          3  ...   0.5719\n",
              "3          4  ...   0.5719\n",
              "4          5  ...   0.5719\n",
              "...      ...  ...      ...\n",
              "10012  10016  ...  -0.5106\n",
              "10013  10017  ...  -0.5106\n",
              "10014  10018  ...  -0.5106\n",
              "10015  10019  ...  -0.5106\n",
              "10016  10019  ...  -0.5106\n",
              "\n",
              "[10017 rows x 4 columns]"
            ]
          },
          "metadata": {
            "tags": []
          },
          "execution_count": 23
        }
      ]
    },
    {
      "cell_type": "code",
      "metadata": {
        "id": "Vy5_fxrjla1G"
      },
      "source": [
        "# input and output\n",
        "x = df['Tweets'].values\n",
        "y = df['Feeling'].values"
      ],
      "execution_count": 24,
      "outputs": []
    },
    {
      "cell_type": "code",
      "metadata": {
        "id": "vVuVSwNElgGH"
      },
      "source": [
        "# split the data\n",
        "from sklearn.model_selection import train_test_split\n",
        "x_train,x_test,y_train,y_test = train_test_split(x,y,random_state=0)"
      ],
      "execution_count": 25,
      "outputs": []
    },
    {
      "cell_type": "code",
      "metadata": {
        "colab": {
          "base_uri": "https://localhost:8080/"
        },
        "id": "cU42LrFBlmFR",
        "outputId": "771817ab-5e4a-43b7-cfc4-12cfcae13730"
      },
      "source": [
        "print(x_train.shape)\n",
        "print(x_test.shape)"
      ],
      "execution_count": 26,
      "outputs": [
        {
          "output_type": "stream",
          "text": [
            "(7512,)\n",
            "(2505,)\n"
          ],
          "name": "stdout"
        }
      ]
    },
    {
      "cell_type": "code",
      "metadata": {
        "id": "rcG01fa_l0BB"
      },
      "source": [
        "from sklearn.feature_extraction.text import CountVectorizer"
      ],
      "execution_count": 27,
      "outputs": []
    },
    {
      "cell_type": "code",
      "metadata": {
        "id": "5PjmU5rPl3Oa"
      },
      "source": [
        "vect = CountVectorizer(stop_words='english')\n",
        "x_train_vect = vect.fit_transform(x_train)\n",
        "x_test_vect = vect.transform(x_test)   # only tranform for test data and fit_transform for train data\n",
        "\n",
        "# document term matrix"
      ],
      "execution_count": 28,
      "outputs": []
    },
    {
      "cell_type": "code",
      "metadata": {
        "colab": {
          "base_uri": "https://localhost:8080/"
        },
        "id": "wChXTOXtmIf6",
        "outputId": "c082c70b-bc10-46d9-dcae-e1eb1374fa95"
      },
      "source": [
        "from sklearn.svm import SVC\n",
        "model = SVC()\n",
        "model.fit(x_train_vect,y_train)\n",
        "\n",
        "# value error : could not convert string to float"
      ],
      "execution_count": 30,
      "outputs": [
        {
          "output_type": "execute_result",
          "data": {
            "text/plain": [
              "SVC(C=1.0, break_ties=False, cache_size=200, class_weight=None, coef0=0.0,\n",
              "    decision_function_shape='ovr', degree=3, gamma='scale', kernel='rbf',\n",
              "    max_iter=-1, probability=False, random_state=None, shrinking=True,\n",
              "    tol=0.001, verbose=False)"
            ]
          },
          "metadata": {
            "tags": []
          },
          "execution_count": 30
        }
      ]
    },
    {
      "cell_type": "code",
      "metadata": {
        "id": "Q8iNmkl-l549"
      },
      "source": [
        "y_pred = model.predict(x_test_vect)"
      ],
      "execution_count": 31,
      "outputs": []
    },
    {
      "cell_type": "code",
      "metadata": {
        "colab": {
          "base_uri": "https://localhost:8080/"
        },
        "id": "RjGAHedsmEwy",
        "outputId": "a759b250-1437-4237-ec64-1379437a6758"
      },
      "source": [
        "from sklearn.metrics import accuracy_score,confusion_matrix,classification_report\n",
        "accuracy_score(y_pred,y_test)"
      ],
      "execution_count": 32,
      "outputs": [
        {
          "output_type": "execute_result",
          "data": {
            "text/plain": [
              "0.8794411177644711"
            ]
          },
          "metadata": {
            "tags": []
          },
          "execution_count": 32
        }
      ]
    },
    {
      "cell_type": "code",
      "metadata": {
        "colab": {
          "base_uri": "https://localhost:8080/"
        },
        "id": "HjhOV0iBmZ9S",
        "outputId": "a4eae24f-a5b5-43de-9273-0a2a66554f93"
      },
      "source": [
        "print(classification_report(y_pred,y_test))"
      ],
      "execution_count": 33,
      "outputs": [
        {
          "output_type": "stream",
          "text": [
            "              precision    recall  f1-score   support\n",
            "\n",
            "       angry       0.78      0.99      0.87       277\n",
            "     disgust       0.68      0.99      0.81       106\n",
            "        fear       0.71      0.97      0.82       150\n",
            "       happy       0.99      0.79      0.88      1312\n",
            "         sad       0.86      0.97      0.91       660\n",
            "\n",
            "    accuracy                           0.88      2505\n",
            "   macro avg       0.80      0.94      0.86      2505\n",
            "weighted avg       0.90      0.88      0.88      2505\n",
            "\n"
          ],
          "name": "stdout"
        }
      ]
    },
    {
      "cell_type": "code",
      "metadata": {
        "colab": {
          "base_uri": "https://localhost:8080/"
        },
        "id": "r0RgjR85mddj",
        "outputId": "8a49c43f-6e97-4c38-8660-0e820fd1aa1d"
      },
      "source": [
        "test = vect.transform([df['Tweets'][0]])\n",
        "model.predict(test)"
      ],
      "execution_count": 34,
      "outputs": [
        {
          "output_type": "execute_result",
          "data": {
            "text/plain": [
              "array(['happy'], dtype=object)"
            ]
          },
          "metadata": {
            "tags": []
          },
          "execution_count": 34
        }
      ]
    },
    {
      "cell_type": "code",
      "metadata": {
        "id": "qanh1FL-mkvX"
      },
      "source": [
        "# Pipe line - Combining two or more estimators \n",
        "# Joblib - Saving the model\n",
        "# Streamlit - Webapp\n",
        "# Heroku - Cloud service to diploy webapp"
      ],
      "execution_count": 35,
      "outputs": []
    },
    {
      "cell_type": "code",
      "metadata": {
        "colab": {
          "base_uri": "https://localhost:8080/"
        },
        "id": "AoXVFRFjmqq9",
        "outputId": "c9757fce-d857-48d8-fa6f-23cbd92659e8"
      },
      "source": [
        "# Pipe Line = CountVectorizer+SVM\n",
        "\n",
        "\n",
        "from sklearn.pipeline import make_pipeline\n",
        "text_model = make_pipeline(CountVectorizer(),SVC())\n",
        "\n",
        "text_model.fit(x_train,y_train)\n",
        "\n",
        "y_pred = text_model.predict(x_test)\n",
        "y_pred\n",
        "\n",
        "\n"
      ],
      "execution_count": 36,
      "outputs": [
        {
          "output_type": "execute_result",
          "data": {
            "text/plain": [
              "array(['sad', 'happy', 'happy', ..., 'happy', 'happy', 'happy'],\n",
              "      dtype=object)"
            ]
          },
          "metadata": {
            "tags": []
          },
          "execution_count": 36
        }
      ]
    },
    {
      "cell_type": "code",
      "metadata": {
        "colab": {
          "base_uri": "https://localhost:8080/"
        },
        "id": "CN765QNZm0K6",
        "outputId": "f2ff452e-0e08-4315-9344-740b4a403f64"
      },
      "source": [
        "text_model"
      ],
      "execution_count": 37,
      "outputs": [
        {
          "output_type": "execute_result",
          "data": {
            "text/plain": [
              "Pipeline(memory=None,\n",
              "         steps=[('countvectorizer',\n",
              "                 CountVectorizer(analyzer='word', binary=False,\n",
              "                                 decode_error='strict',\n",
              "                                 dtype=<class 'numpy.int64'>, encoding='utf-8',\n",
              "                                 input='content', lowercase=True, max_df=1.0,\n",
              "                                 max_features=None, min_df=1,\n",
              "                                 ngram_range=(1, 1), preprocessor=None,\n",
              "                                 stop_words=None, strip_accents=None,\n",
              "                                 token_pattern='(?u)\\\\b\\\\w\\\\w+\\\\b',\n",
              "                                 tokenizer=None, vocabulary=None)),\n",
              "                ('svc',\n",
              "                 SVC(C=1.0, break_ties=False, cache_size=200, class_weight=None,\n",
              "                     coef0=0.0, decision_function_shape='ovr', degree=3,\n",
              "                     gamma='scale', kernel='rbf', max_iter=-1,\n",
              "                     probability=False, random_state=None, shrinking=True,\n",
              "                     tol=0.001, verbose=False))],\n",
              "         verbose=False)"
            ]
          },
          "metadata": {
            "tags": []
          },
          "execution_count": 37
        }
      ]
    },
    {
      "cell_type": "code",
      "metadata": {
        "colab": {
          "base_uri": "https://localhost:8080/"
        },
        "id": "sqap0RN4nD7U",
        "outputId": "a7386e16-396c-481f-c7f7-4815b0208d18"
      },
      "source": [
        "import joblib\n",
        "joblib.dump(text_model,'Twitter_Reviews')\n",
        "\n",
        "# Saving pipeline in a file"
      ],
      "execution_count": 44,
      "outputs": [
        {
          "output_type": "execute_result",
          "data": {
            "text/plain": [
              "['Twitter_Reviews']"
            ]
          },
          "metadata": {
            "tags": []
          },
          "execution_count": 44
        }
      ]
    },
    {
      "cell_type": "code",
      "metadata": {
        "id": "NVIS7PGUnQaP"
      },
      "source": [
        ""
      ],
      "execution_count": null,
      "outputs": []
    }
  ]
}